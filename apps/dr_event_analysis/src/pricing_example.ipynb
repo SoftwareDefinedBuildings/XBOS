{
 "cells": [
  {
   "cell_type": "code",
   "execution_count": 1,
   "metadata": {},
   "outputs": [],
   "source": [
    "from pricing.cost_calculator.cost_calculator import CostCalculator\n",
    "from pricing.openei_tariff.openei_tariff_analyzer import *\n",
    "from pricing.cost_calculator.tariff_structure import *\n",
    "import datetime as dtime\n",
    "import matplotlib.pyplot as plt"
   ]
  },
  {
   "cell_type": "code",
   "execution_count": 2,
   "metadata": {},
   "outputs": [],
   "source": [
    "ciee_tariff = OpenEI_tariff(utility_id='14328',\n",
    "                  sector='Commercial',\n",
    "                  tariff_rate_of_interest='A-1 Small General Service',  # need to add Small General Service to get the right data ..\n",
    "                  distrib_level_of_interest=None,\n",
    "                  phasewing='Single',\n",
    "                  tou=True)"
   ]
  },
  {
   "cell_type": "code",
   "execution_count": 3,
   "metadata": {},
   "outputs": [],
   "source": [
    "calculator = CostCalculator()"
   ]
  },
  {
   "cell_type": "code",
   "execution_count": 4,
   "metadata": {},
   "outputs": [
    {
     "data": {
      "text/plain": [
       "0"
      ]
     },
     "execution_count": 4,
     "metadata": {},
     "output_type": "execute_result"
    }
   ],
   "source": [
    "ciee_tariff.read_from_json()"
   ]
  },
  {
   "cell_type": "code",
   "execution_count": 5,
   "metadata": {},
   "outputs": [],
   "source": [
    "tariff_struct_from_openei_data(ciee_tariff, calculator, pdp_event_filenames='PDP_events.json')"
   ]
  },
  {
   "cell_type": "code",
   "execution_count": null,
   "metadata": {},
   "outputs": [],
   "source": []
  },
  {
   "cell_type": "code",
   "execution_count": 6,
   "metadata": {},
   "outputs": [],
   "source": [
    "pd_prices, map_prices = calculator.get_electricity_price(timestep=TariffElemPeriod.HOURLY,\n",
    "                                                        range_date=(dtime.datetime(2018,\n",
    "                                                                                      7,\n",
    "                                                                                      25, 0, 0, 0).replace(tzinfo=pytz.timezone('US/Pacific')),\n",
    "                                                                    dtime.datetime(2018,\n",
    "                                                                                      7,\n",
    "                                                                                      25, 23, 59,\n",
    "                                                                                      59).replace(tzinfo=pytz.timezone('US/Pacific'))))\n",
    "pd_prices = pd_prices.fillna(0)\n",
    "energyPrices = pd_prices.customer_energy_charge.values + pd_prices.pdp_non_event_energy_credit.values + pd_prices.pdp_event_energy_charge.values\n",
    "demandPrices = pd_prices.customer_demand_charge_season.values + pd_prices.pdp_non_event_demand_credit.values + pd_prices.customer_demand_charge_tou.values\n"
   ]
  },
  {
   "cell_type": "code",
   "execution_count": 7,
   "metadata": {},
   "outputs": [
    {
     "data": {
      "text/plain": [
       "array([0.2073 , 0.2073 , 0.2073 , 0.2073 , 0.2073 , 0.2073 , 0.2073 ,\n",
       "       0.2073 , 0.23465, 0.23465, 0.23465, 0.23465, 0.2583 , 0.2583 ,\n",
       "       0.8583 , 0.8583 , 0.8583 , 0.8583 , 0.23465, 0.23465, 0.23465,\n",
       "       0.2073 , 0.2073 , 0.2073 ])"
      ]
     },
     "execution_count": 7,
     "metadata": {},
     "output_type": "execute_result"
    }
   ],
   "source": [
    "energyPrices"
   ]
  },
  {
   "cell_type": "code",
   "execution_count": 16,
   "metadata": {
    "scrolled": true
   },
   "outputs": [
    {
     "data": {
      "text/plain": [
       "[<matplotlib.lines.Line2D at 0x11b0c0b00>]"
      ]
     },
     "execution_count": 16,
     "metadata": {},
     "output_type": "execute_result"
    },
    {
     "data": {
      "image/png": "[encoded data removed]",
      "text/plain": [
       "<Figure size 432x288 with 1 Axes>"
      ]
     },
     "metadata": {
      "needs_background": "light"
     },
     "output_type": "display_data"
    }
   ],
   "source": [
    "plt.plot(energyPrices)"
   ]
  },
  {
   "cell_type": "code",
   "execution_count": 2,
   "metadata": {},
   "outputs": [],
   "source": [
    "from calc_price import calc_total_price\n",
    "import datetime as dtime\n",
    "import numpy as np\n",
    "import pandas as pd"
   ]
  },
  {
   "cell_type": "code",
   "execution_count": null,
   "metadata": {},
   "outputs": [],
   "source": [
    "{'distrib_level_of_interest': nan, \n",
    " 'option_exclusion': nan, \n",
    " 'phasewing': 'Single', \n",
    " 'sector': 'Commercial', \n",
    " 'tariff_rate_of_interest': 'A-1 Small General Service', \n",
    " 'tou': True, \n",
    " 'utility_id': 14328}"
   ]
  },
  {
   "cell_type": "code",
   "execution_count": 3,
   "metadata": {},
   "outputs": [],
   "source": [
    "tariff_options = {\n",
    "        'utility_id': '14328',\n",
    "        'sector': 'Commercial',\n",
    "        'tariff_rate_of_interest': 'A-1 Small General Service', \n",
    "        'distrib_level_of_interest': None, #TODO: Figure out what this is\n",
    "        'phasewing': 'Single',\n",
    "        'tou': True\n",
    "    }"
   ]
  },
  {
   "cell_type": "code",
   "execution_count": 4,
   "metadata": {},
   "outputs": [],
   "source": [
    "start = dtime.datetime(2018,7,25, 0, 0, 0).replace(tzinfo=pytz.timezone('US/Pacific'))\n",
    "\n",
    "end = dtime.datetime(2018,7,25, 23, 59,59).replace(tzinfo=pytz.timezone('US/Pacific'))"
   ]
  },
  {
   "cell_type": "code",
   "execution_count": 5,
   "metadata": {},
   "outputs": [],
   "source": [
    "power_vector = pd.Series(np.ones(4*24))"
   ]
  },
  {
   "cell_type": "code",
   "execution_count": 6,
   "metadata": {},
   "outputs": [
    {
     "name": "stdout",
     "output_type": "stream",
     "text": [
      "tariff data_openei\n",
      "None\n"
     ]
    },
    {
     "ename": "ValueError",
     "evalue": "shapes (24,) and (32,) not aligned: 24 (dim 0) != 32 (dim 0)",
     "output_type": "error",
     "traceback": [
      "\u001b[0;31m---------------------------------------------------------------------------\u001b[0m",
      "\u001b[0;31mValueError\u001b[0m                                Traceback (most recent call last)",
      "\u001b[0;32m<ipython-input-6-67c68adea4d1>\u001b[0m in \u001b[0;36m<module>\u001b[0;34m\u001b[0m\n\u001b[0;32m----> 1\u001b[0;31m \u001b[0mcalc_total_price\u001b[0m\u001b[0;34m(\u001b[0m\u001b[0mpower_vector\u001b[0m\u001b[0;34m,\u001b[0m \u001b[0mtariff_options\u001b[0m\u001b[0;34m,\u001b[0m \u001b[0mstart\u001b[0m\u001b[0;34m,\u001b[0m \u001b[0mend\u001b[0m\u001b[0;34m)\u001b[0m\u001b[0;34m\u001b[0m\u001b[0m\n\u001b[0m",
      "\u001b[0;32m~/XBOS/mortar/src/calc_price.py\u001b[0m in \u001b[0;36mcalc_total_price\u001b[0;34m(power_vector, tariff_options, start_datetime, end_datetime, interval)\u001b[0m\n\u001b[1;32m     48\u001b[0m     \u001b[0menergyPrices\u001b[0m \u001b[0;34m=\u001b[0m \u001b[0mpd_prices\u001b[0m\u001b[0;34m.\u001b[0m\u001b[0mcustomer_energy_charge\u001b[0m\u001b[0;34m.\u001b[0m\u001b[0mvalues\u001b[0m \u001b[0;34m+\u001b[0m \u001b[0mpd_prices\u001b[0m\u001b[0;34m.\u001b[0m\u001b[0mpdp_non_event_energy_credit\u001b[0m\u001b[0;34m.\u001b[0m\u001b[0mvalues\u001b[0m \u001b[0;34m+\u001b[0m \u001b[0mpd_prices\u001b[0m\u001b[0;34m.\u001b[0m\u001b[0mpdp_event_energy_charge\u001b[0m\u001b[0;34m.\u001b[0m\u001b[0mvalues\u001b[0m\u001b[0;34m\u001b[0m\u001b[0m\n\u001b[1;32m     49\u001b[0m     \u001b[0mdemandPrices\u001b[0m \u001b[0;34m=\u001b[0m \u001b[0mpd_prices\u001b[0m\u001b[0;34m.\u001b[0m\u001b[0mcustomer_demand_charge_season\u001b[0m\u001b[0;34m.\u001b[0m\u001b[0mvalues\u001b[0m \u001b[0;34m+\u001b[0m \u001b[0mpd_prices\u001b[0m\u001b[0;34m.\u001b[0m\u001b[0mpdp_non_event_demand_credit\u001b[0m\u001b[0;34m.\u001b[0m\u001b[0mvalues\u001b[0m \u001b[0;34m+\u001b[0m \u001b[0mpd_prices\u001b[0m\u001b[0;34m.\u001b[0m\u001b[0mcustomer_demand_charge_tou\u001b[0m\u001b[0;34m.\u001b[0m\u001b[0mvalues\u001b[0m\u001b[0;34m\u001b[0m\u001b[0m\n\u001b[0;32m---> 50\u001b[0;31m     \u001b[0;32mreturn\u001b[0m \u001b[0menergyPrices\u001b[0m \u001b[0;34m@\u001b[0m \u001b[0menergy_vector\u001b[0m\u001b[0;34m\u001b[0m\u001b[0m\n\u001b[0m\u001b[1;32m     51\u001b[0m \u001b[0;34m\u001b[0m\u001b[0m\n\u001b[1;32m     52\u001b[0m \u001b[0;32mdef\u001b[0m \u001b[0mpower_15min_to_hourly_energy\u001b[0m\u001b[0;34m(\u001b[0m\u001b[0mpower_vector\u001b[0m\u001b[0;34m)\u001b[0m\u001b[0;34m:\u001b[0m\u001b[0;34m\u001b[0m\u001b[0m\n",
      "\u001b[0;31mValueError\u001b[0m: shapes (24,) and (32,) not aligned: 24 (dim 0) != 32 (dim 0)"
     ]
    }
   ],
   "source": [
    "calc_total_price(power_vector, tariff_options, start, end)"
   ]
  },
  {
   "cell_type": "code",
   "execution_count": null,
   "metadata": {},
   "outputs": [],
   "source": [
    "pd.timedelta_range(start=)"
   ]
  },
  {
   "cell_type": "code",
   "execution_count": 7,
   "metadata": {},
   "outputs": [
    {
     "ename": "TypeError",
     "evalue": "Required argument 'year' (pos 1) not found",
     "output_type": "error",
     "traceback": [
      "\u001b[0;31m---------------------------------------------------------------------------\u001b[0m",
      "\u001b[0;31mTypeError\u001b[0m                                 Traceback (most recent call last)",
      "\u001b[0;32m<ipython-input-7-fcec4e139840>\u001b[0m in \u001b[0;36m<module>\u001b[0;34m\u001b[0m\n\u001b[0;32m----> 1\u001b[0;31m \u001b[0mpd\u001b[0m\u001b[0;34m.\u001b[0m\u001b[0mdatetime\u001b[0m\u001b[0;34m(\u001b[0m\u001b[0mhour\u001b[0m\u001b[0;34m=\u001b[0m\u001b[0;36m14\u001b[0m\u001b[0;34m)\u001b[0m\u001b[0;34m\u001b[0m\u001b[0m\n\u001b[0m",
      "\u001b[0;31mTypeError\u001b[0m: Required argument 'year' (pos 1) not found"
     ]
    }
   ],
   "source": [
    "pd.datetime(hour=14)"
   ]
  },
  {
   "cell_type": "code",
   "execution_count": null,
   "metadata": {},
   "outputs": [],
   "source": []
  }
 ],
 "metadata": {
  "kernelspec": {
   "display_name": "Python [conda env:mortar]",
   "language": "python",
   "name": "conda-env-mortar-py"
  },
  "language_info": {
   "codemirror_mode": {
    "name": "ipython",
    "version": 3
   },
   "file_extension": ".py",
   "mimetype": "text/x-python",
   "name": "python",
   "nbconvert_exporter": "python",
   "pygments_lexer": "ipython3",
   "version": "3.6.6"
  }
 },
 "nbformat": 4,
 "nbformat_minor": 2
}
